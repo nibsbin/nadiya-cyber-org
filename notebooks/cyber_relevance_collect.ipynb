{
 "cells": [
  {
   "cell_type": "markdown",
   "id": "0ed05359",
   "metadata": {},
   "source": [
    "# Setup\n",
    "\n",
    "Fall [these instructions](https://docs.astral.sh/uv/getting-started/installation/) to install `uv`. Then run the following command to set up your environment:\n",
    "\n",
    "```bash\n",
    "uv sync --quiet\n",
    "```"
   ]
  },
  {
   "cell_type": "code",
   "execution_count": 1,
   "id": "558d843a",
   "metadata": {},
   "outputs": [],
   "source": [
    "# Imports\n",
    "from robora import Workflow, SQLiteStorageProvider\n",
    "from robora.sonar_query import SonarQueryHandler\n",
    "from library.cyber_relevance_question import CyberRelevanceModel, get_question_set\n",
    "from data import COUNTRIES, DOMAINS"
   ]
  },
  {
   "cell_type": "code",
   "execution_count": null,
   "id": "187288fe",
   "metadata": {},
   "outputs": [],
   "source": [
    "workflow = Workflow(SonarQueryHandler(CyberRelevanceModel),SQLiteStorageProvider(\"cyber_relevance.db\"))\n",
    "question_set = get_question_set(\n",
    "    domains=DOMAINS,\n",
    "    countries=COUNTRIES\n",
    ")\n",
    "question_set.max_questions = None"
   ]
  },
  {
   "cell_type": "code",
   "execution_count": null,
   "id": "d70b3577",
   "metadata": {},
   "outputs": [],
   "source": [
    "workflow.ask_multiple(question_set, return_results=False)"
   ]
  }
 ],
 "metadata": {
  "kernelspec": {
   "display_name": ".venv",
   "language": "python",
   "name": "python3"
  },
  "language_info": {
   "codemirror_mode": {
    "name": "ipython",
    "version": 3
   },
   "file_extension": ".py",
   "mimetype": "text/x-python",
   "name": "python",
   "nbconvert_exporter": "python",
   "pygments_lexer": "ipython3",
   "version": "3.13.7"
  }
 },
 "nbformat": 4,
 "nbformat_minor": 5
}
