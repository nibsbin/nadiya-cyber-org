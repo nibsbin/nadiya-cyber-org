{
 "cells": [
  {
   "cell_type": "markdown",
   "id": "0ed05359",
   "metadata": {},
   "source": [
    "# Setup\n",
    "\n",
    "Fall [these instructions](https://docs.astral.sh/uv/getting-started/installation/) to install `uv`. Then run the following command to set up your environment:\n",
    "\n",
    "```bash\n",
    "uv sync --quiet\n",
    "```"
   ]
  },
  {
   "cell_type": "code",
   "execution_count": 1,
   "id": "558d843a",
   "metadata": {},
   "outputs": [],
   "source": [
    "# Imports\n",
    "from robora import Workflow, SQLiteStorageProvider\n",
    "from robora.sonar_query import SonarQueryHandler\n",
    "from library.cyber_relevance_question import CyberRelevanceModel, get_question_set\n",
    "from data import COUNTRIES, DOMAINS"
   ]
  },
  {
   "cell_type": "code",
   "execution_count": null,
   "id": "187288fe",
   "metadata": {},
   "outputs": [],
   "source": [
    "workflow = Workflow(SonarQueryHandler(CyberRelevanceModel),SQLiteStorageProvider(\"cyber_relevance.db\"))\n",
    "question_set = get_question_set(\n",
    "    domains=DOMAINS,\n",
    "    countries=COUNTRIES\n",
    ")\n",
    "question_set.max_questions = 3"
   ]
  },
  {
   "cell_type": "code",
   "execution_count": 3,
   "id": "d70b3577",
   "metadata": {},
   "outputs": [
    {
     "data": {
      "text/plain": [
       "[]"
      ]
     },
     "execution_count": 3,
     "metadata": {},
     "output_type": "execute_result"
    }
   ],
   "source": [
    "await workflow.ask_multiple(question_set, return_results=False)"
   ]
  },
  {
   "cell_type": "code",
   "execution_count": 4,
   "id": "deab607c",
   "metadata": {},
   "outputs": [
    {
     "name": "stdout",
     "output_type": "stream",
     "text": [
      "Answer(question='Is the department/ministry of Foreign Affairs in Albania a direct stakeholder (i.e., responsible for or involved) in the country's cybersecurity?', word_set={'domain': 'Foreign Affairs', 'country': 'Albania'}, fields={'relevance_level': <CyberRelevanceLevel.LOW: 'LOW'>, 'confidence': <ConfidenceLevel.HIGH: 'HIGH'>, 'explanation': \"The Ministry of Foreign Affairs in Albania is primarily focused on international diplomacy and foreign relations, and there is no direct evidence it holds responsibility for the country's cybersecurity. Instead, cybersecurity in Albania is mainly overseen by entities such as the National Authority on Electronic Certification and Cyber Security (NAECCS), which acts as the National CSIRT and coordinates national-level cybersecurity policies and incident response. Additionally, the Ministry of Defense has an active role in developing cyber defense capabilities and collaborating with NATO and international partners on cyber defense. The Ministry of Foreign Affairs may be indirectly involved through diplomatic channels, especially regarding international cyber diplomacy or responding to cyberattacks of a geopolitical nature, but it is not a direct stakeholder with operational cybersecurity responsibilities or mandates within the national cybersecurity governance structure of Albania[2][3][4][5][6].\", 'enriched_citations': [{'url': 'https://www.dcpas.osd.mil/sites/default/files/albania_-_cyber_advisor.pdf', 'title': '[PDF] 1 Ministry of Defense Advisor (MoDA) Program Position Description', 'snippet': 'Advise military leaders in their cybersecurity planning for defense organizations. operations and cybersecurity missions. joint planning and joint operations.', 'date': None, 'last_updated': '2025-08-28', 'matched': True}, {'url': 'https://aksk.gov.al/wp-content/uploads/2024/06/GOVERNANCE-REPORT-NAECCS-2023.pdf', 'title': '[PDF] REPORT CYBERSECURITY GOVERNANCE IN ALBANIA YEAR 2023', 'snippet': 'The purpose of the Cybersecurity Policy is to review and coordinate the obligations arising from the commitments made for secure cyberspace at the national ...', 'date': None, 'last_updated': '2025-09-24', 'matched': True}, {'url': 'https://aksk.gov.al/wp-content/uploads/2024/01/Monitoring-of-the-National-Cyber-Security-Strategy-2022.pdf', 'title': '[PDF] Monitoring of National Cybersecurity Strategy 2020-2025 - AKSK', 'snippet': 'This strategy aims to guarantee cybersecurity in the Republic of Albania through the establishment and operation of cooperative institutional mechanisms ...', 'date': None, 'last_updated': '2025-09-11', 'matched': True}, {'url': 'https://www.thecyberdiplomat.com/post/albania-s-digital-transformation-and-cybersecurity-journey', 'title': \"Albania's Digital Transformation and Cybersecurity Journey\", 'snippet': 'Albania is advancing its cybersecurity and technology sector through its National Cybersecurity Strategy 2025–2030.', 'date': '2025-07-03', 'last_updated': '2025-09-01', 'matched': True}, {'url': 'https://www.scrd.eu/index.php/scrd-pp/article/download/646/596/1400', 'title': '[PDF] From threat to response: The evolution of cybersecurity in Albania', 'snippet': \"Abstract: As Albania's digital landscape expands, its vulnerability to sophisticated cyber threats increases correspondingly. This study explores the.\", 'date': None, 'last_updated': '2025-09-04', 'matched': True}, {'url': 'https://www.osorin.it/uploads/model_4/.files/133_item_2.pdf?v=1680094363', 'title': '[PDF] the (likely) Albanian cyber aggression and the Iranian responsibility', 'snippet': 'But few are the comments on the Iranian responsibility for the cyber-State attacks against. Albania, a North Atlantic Treaty Organization (NATO) country. The ...', 'date': None, 'last_updated': '2025-09-21', 'matched': True}, {'url': 'https://rtsh.al/rti/en/u-s-state-department-backs-albanias-cybersecurity-in-banking-and-energy-sectors/', 'title': \"U.S. State Department Backs Albania's Cybersecurity in Banking ...\", 'snippet': \"A focused meeting brought together representatives from the US State Department and key actors in Albania's banking and energy sectors.\", 'date': None, 'last_updated': None, 'matched': True}, {'url': 'https://releasepeace.org/albania-was-hit-by-cyberattacks-what-it-can-learn-from-estonia/', 'title': 'Albania Was Hit by Cyberattacks. What it Can Learn From Estonia.', 'snippet': 'Taking note from Estonia, in January 2023 Albanian Defence Minister Nikeo Peleshi said that a military cyber defence unit will become operational in 2023.', 'date': '2022-10-14', 'last_updated': '2025-02-13', 'matched': True}, {'url': 'https://ncsi.ega.ee/country/al/', 'title': 'NCSI :: Albania - National Cyber Security Index', 'snippet': '... responsibility for leading and directing cybersecurity policy development. The same entity may lead national cybersecurity strategy development and oversee ...', 'date': '2025-05-15', 'last_updated': '2025-06-02', 'matched': True}]}, error=None, full_response={'id': 'abef5c18-0998-4447-91c4-e1de9a04e5bf', 'model': 'sonar', 'created': 1758...)\n",
      "Answer(question='Is the department/ministry of Foreign Affairs in Afghanistan a direct stakeholder (i.e., responsible for or involved) in the country's cybersecurity?', word_set={'domain': 'Foreign Affairs', 'country': 'Afghanistan'}, fields={'relevance_level': <CyberRelevanceLevel.LOW: 'LOW'>, 'confidence': <ConfidenceLevel.HIGH: 'HIGH'>, 'explanation': \"According to Afghanistan's National Cybersecurity Strategy, the primary governmental body responsible for coordinating cyber and information security issues is the Information Systems Security Directorate (ISSD) under the Ministry of Communications and Information Technologies (MCIT)[1]. The Ministry of Communications and IT is mandated to lead the digital transformation and cybersecurity efforts in Afghanistan, including establishing frameworks and cyber emergency response teams[1][3]. There is no indication that the Ministry/Department of Foreign Affairs is designated as a direct stakeholder or is responsible for cybersecurity tasks within the Afghan government structures outlined in the country's cyber strategy. However, since foreign affairs involves diplomacy and international relations, the ministry may be involved indirectly or in international cyber diplomacy, but this is not explicitly stated in the sources available. Therefore, the Ministry of Foreign Affairs is not a direct stakeholder responsible for or involved in cybersecurity operations or policymaking in Afghanistan. This assessment is made with high confidence based on official Afghan government strategy documents and descriptions of ministry mandates[1][3].\", 'enriched_citations': [{'url': 'https://www.itu.int/en/ITU-D/Cybersecurity/Documents/National_Strategies_Repository/Afghanistan_2014_National%20Cybersecurity%20Strategy%20of%20Afghanistan%20(November2014).pdf', 'title': '[PDF] National Cyber Security Strategy of Afghanistan (NCSA) - ITU', 'snippet': 'a) Information Systems Security Directorate (ISSD) of Ministry of Communications and. Information Technologies (MCIT) to coordinate all cyber and information ...', 'date': None, 'last_updated': '2024-02-07', 'matched': True}, {'url': 'https://www.ijeast.com/papers/213-230,Tesma602,IJEAST.pdf', 'title': '[PDF] A COMPREHENSIVE CYBERSECURITY FRAMEWORK ... - IJEAST', 'snippet': \"The aim of this paper is to propose a comprehensive cybersecurity framework for. Afghanistan's cyberspace in order to protect and assure data, information and ...\", 'date': None, 'last_updated': '2025-09-17', 'matched': True}, {'url': 'https://mcit.gov.af/en/node/6949', 'title': 'About the Ministry | Ministry of communications & IT', 'snippet': 'To promote information technology in all sectors · To provide affordable, secure access · To Attract national and international investments in this sector ...', 'date': '2021-02-01', 'last_updated': '2025-08-29', 'matched': True}, {'url': 'https://www.govtech.com/blogs/lohrmann-on-cybersecurity/cyber-in-afghanistan-techs-vital-role-in-kabul-evacuation', 'title': \"Cyber in Afghanistan: Tech's Vital Role in Kabul Evacuation - GovTech\", 'snippet': 'What is a clear trend across all of these Afghanistan stories is the vital role that cybersecurity and technology are now playing in Kabul.', 'date': '2021-08-22', 'last_updated': '2025-09-18', 'matched': True}, {'url': 'https://www.chathamhouse.org/2024/08/internet-under-attack/03-internet-resilience-afghanistan', 'title': 'The internet under attack | 03 Internet resilience in Afghanistan', 'snippet': 'The paper draws on two case studies for key insights on elements of internet resilience such as digital infrastructure, conflict dynamics and policy priorities.', 'date': '2024-08-23', 'last_updated': '2025-02-13', 'matched': True}]}, error=None, full_response={'id': '5964513a-c94a-438d-a160-1bf0b5992959', 'model': 'sonar', 'created': 1758...)\n",
      "Answer(question='Is the department/ministry of Foreign Affairs in Algeria a direct stakeholder (i.e., responsible for or involved) in the country's cybersecurity?', word_set={'domain': 'Foreign Affairs', 'country': 'Algeria'}, fields={'relevance_level': <CyberRelevanceLevel.MEDIUM: 'MEDIUM'>, 'confidence': <ConfidenceLevel.MEDIUM: 'MEDIUM'>, 'explanation': 'The Algerian Ministry of Foreign Affairs is represented in the National Council for Information Systems Security, which is responsible for developing cybersecurity strategies and policies at the national level. This council includes key ministers such as the Minister of National Defense, Interior, Finance, and the Minister of Foreign Affairs, indicating the Foreign Affairs ministry has a stake in cybersecurity matters coordinated at the national policy level[1]. However, operational cybersecurity activities are primarily led by the Ministry of National Defense and other bodies like the Agency for Information Systems Security and the Ministry of Post and Telecommunications, which play more direct roles in enforcement and technical implementation[1][4][6]. Therefore, the Ministry of Foreign Affairs is involved in high-level strategic decision-making regarding cybersecurity but is not the primary operational stakeholder.', 'enriched_citations': [{'url': 'https://resmilitaris.net/uploads/paper/363bdbc8ab7492009166af1390e04f61.pdf', 'title': '[PDF] Cyber Security in the Algerian National Defense System', 'snippet': 'Algeria has recorded rising numbers in the field of cybercrime, especially with its orientation towards e-government, in addition to the unstable security ...', 'date': None, 'last_updated': '2025-05-09', 'matched': True}, {'url': 'https://theme-weeks.expo2025.or.jp/en/program/detail/66ee2920a5358.html', 'title': \"Algeria's cyber security strategy | Expo 2025 Theme Weeks\", 'snippet': \"Cyber security was presented as a shared responsibility vital to protecting the nation's digital economy and future resilience.\", 'date': '2025-05-18', 'last_updated': '2025-09-21', 'matched': True}, {'url': 'https://digitalpolicyalert.org/digest/dpa-digital-digest-algeria', 'title': 'DPA Digital Digest: Algeria [2025 Edition]', 'snippet': \"Algeria's cybersecurity framework comprises several sectoral frameworks. In January 2021, Decree No. 20-05 established a requirement for ...\", 'date': '2025-04-16', 'last_updated': '2025-09-14', 'matched': True}, {'url': 'https://www.trade.gov/country-commercial-guides/algeria-digital-economy', 'title': 'Algeria - Digital Economy - International Trade Administration', 'snippet': 'They work on identifying cyber threats and implementing effective control and detection mechanisms.', 'date': '2024-09-19', 'last_updated': '2025-09-23', 'matched': True}, {'url': 'https://www.state.gov/wp-content/uploads/2021/01/ICS_NEA_Algeria_Public-Release.pdf', 'title': '[PDF] Integrated Country Strategy (ICS) - Algeria - State Department', 'snippet': 'By supporting the Algerian government to reduce the regulatory barriers that discourage foreign investment in the economy, we hope to facilitate market ...', 'date': None, 'last_updated': '2025-05-23', 'matched': True}, {'url': 'https://www.mdn.dz/site_principal/sommaire/actualites/an/2023/juin/cna07062023an.php', 'title': 'for a cyber-resilient Algeria - Ministry of National Defence-Algeria-', 'snippet': '\"Algeria is fully aware of the importance of cyber security, which has now become an absolute necessity, to deal with all forms of risks and ...', 'date': '2023-06-07', 'last_updated': '2025-08-29', 'matched': True}, {'url': 'https://press.un.org/en/2024/sc15738.doc.htm', 'title': 'Digital Breakthroughs Must Serve Betterment of People, Planet ...', 'snippet': 'Its proactive engagement in cybersecurity, aligned with its primary responsibility to maintain international peace and security, helps the ...', 'date': '2024-06-20', 'last_updated': '2025-09-24', 'matched': True}]}, error=None, full_response={'id': 'aab7c2f2-db92-4b82-a883-2e58de68c939', 'model': 'sonar', 'created': 1758...)\n"
     ]
    }
   ],
   "source": [
    "# Confirm answers stored in the database\n",
    "i = 5\n",
    "async for answer in workflow.dump_answers():\n",
    "    i -= 1\n",
    "    if i < 0:\n",
    "        break\n",
    "    print(answer)\n",
    "    "
   ]
  }
 ],
 "metadata": {
  "kernelspec": {
   "display_name": ".venv",
   "language": "python",
   "name": "python3"
  },
  "language_info": {
   "codemirror_mode": {
    "name": "ipython",
    "version": 3
   },
   "file_extension": ".py",
   "mimetype": "text/x-python",
   "name": "python",
   "nbconvert_exporter": "python",
   "pygments_lexer": "ipython3",
   "version": "3.13.7"
  }
 },
 "nbformat": 4,
 "nbformat_minor": 5
}
