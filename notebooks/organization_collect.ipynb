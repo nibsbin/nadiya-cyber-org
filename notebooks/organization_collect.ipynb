{
 "cells": [
  {
   "cell_type": "markdown",
   "id": "0ed05359",
   "metadata": {},
   "source": [
    "# Setup\n",
    "\n",
    "Fall [these instructions](https://docs.astral.sh/uv/getting-started/installation/) to install `uv`. Then run the following command to set up your environment:\n",
    "\n",
    "```bash\n",
    "uv sync --quiet\n",
    "```"
   ]
  },
  {
   "cell_type": "code",
   "execution_count": 1,
   "id": "558d843a",
   "metadata": {},
   "outputs": [],
   "source": [
    "# Imports\n",
    "from robora import Workflow, SQLiteStorageProvider\n",
    "from robora.sonar_query import SonarQueryHandler\n",
    "from robora.mock_query import MockQueryHandler\n",
    "from library.organization_question import OrganizationModel, get_question_set\n",
    "from data import COUNTRIES, DOMAINS\n",
    "import pandas as pd"
   ]
  },
  {
   "cell_type": "code",
   "execution_count": null,
   "id": "187288fe",
   "metadata": {},
   "outputs": [
    {
     "name": "stdout",
     "output_type": "stream",
     "text": [
      "Loaded 0 stored question hashes from organization.db\n"
     ]
    }
   ],
   "source": [
    "sqlstorage = SQLiteStorageProvider(\"organization.db\")\n",
    "workflow = Workflow(\n",
    "    SonarQueryHandler(OrganizationModel),\n",
    "    sqlstorage,\n",
    "    workers = 4,\n",
    "    )\n",
    "question_set = get_question_set(\n",
    "    domains=['Energy'],\n",
    "    countries=COUNTRIES,\n",
    ")\n",
    "question_set.max_questions = 0  # No limit"
   ]
  },
  {
   "cell_type": "code",
   "execution_count": 3,
   "id": "d70b3577",
   "metadata": {},
   "outputs": [
    {
     "name": "stdout",
     "output_type": "stream",
     "text": [
      "ask_multiple: gathering answers\n",
      "ask_multiple_stream: starting for 3 questions with 4 workers\n",
      "Processing question 1/3: What is the top-level state Organ (i.e., ministry/department/agency) responsible for {domain} in {country}? - {'domain': 'ENERGY', 'country': 'ALBANIA'}\n",
      "Processing question 2/3: What is the top-level state Organ (i.e., ministry/department/agency) responsible for {domain} in {country}? - {'domain': 'ENERGY', 'country': 'ALGERIA'}\n",
      "Processing question 3/3: What is the top-level state Organ (i.e., ministry/department/agency) responsible for {domain} in {country}? - {'domain': 'ENERGY', 'country': 'AFGHANISTAN'}\n",
      "Finished question 3/3\n",
      "Finished question 3/3\n",
      "Finished question 3/3\n",
      "ask_multiple: completed, collected 0 answers\n"
     ]
    },
    {
     "data": {
      "text/plain": [
       "[]"
      ]
     },
     "execution_count": 3,
     "metadata": {},
     "output_type": "execute_result"
    }
   ],
   "source": [
    "await workflow.ask_multiple(question_set, return_results=False)"
   ]
  },
  {
   "cell_type": "code",
   "execution_count": 4,
   "id": "37f12454",
   "metadata": {},
   "outputs": [
    {
     "data": {
      "text/html": [
       "<div>\n",
       "<style scoped>\n",
       "    .dataframe tbody tr th:only-of-type {\n",
       "        vertical-align: middle;\n",
       "    }\n",
       "\n",
       "    .dataframe tbody tr th {\n",
       "        vertical-align: top;\n",
       "    }\n",
       "\n",
       "    .dataframe thead th {\n",
       "        text-align: right;\n",
       "    }\n",
       "</style>\n",
       "<table border=\"1\" class=\"dataframe\">\n",
       "  <thead>\n",
       "    <tr style=\"text-align: right;\">\n",
       "      <th></th>\n",
       "      <th>question</th>\n",
       "      <th>error</th>\n",
       "      <th>domain</th>\n",
       "      <th>country</th>\n",
       "      <th>organization_name</th>\n",
       "      <th>confidence</th>\n",
       "      <th>enriched_citations</th>\n",
       "    </tr>\n",
       "  </thead>\n",
       "  <tbody>\n",
       "    <tr>\n",
       "      <th>0</th>\n",
       "      <td>What is the top-level state Organ (i.e., minis...</td>\n",
       "      <td>None</td>\n",
       "      <td>ENERGY</td>\n",
       "      <td>ALGERIA</td>\n",
       "      <td>Ministry of Energy and Renewable Energy</td>\n",
       "      <td>ConfidenceLevel.MEDIUM</td>\n",
       "      <td>[{'url': 'https://en.wikipedia.org/wiki/Minist...</td>\n",
       "    </tr>\n",
       "    <tr>\n",
       "      <th>1</th>\n",
       "      <td>What is the top-level state Organ (i.e., minis...</td>\n",
       "      <td>None</td>\n",
       "      <td>ENERGY</td>\n",
       "      <td>AFGHANISTAN</td>\n",
       "      <td>Ministry of Energy and Water</td>\n",
       "      <td>ConfidenceLevel.HIGH</td>\n",
       "      <td>[{'url': 'https://en.wikipedia.org/wiki/Minist...</td>\n",
       "    </tr>\n",
       "    <tr>\n",
       "      <th>2</th>\n",
       "      <td>What is the top-level state Organ (i.e., minis...</td>\n",
       "      <td>None</td>\n",
       "      <td>ENERGY</td>\n",
       "      <td>ALBANIA</td>\n",
       "      <td>Ministry of Infrastructure and Energy (Albania)</td>\n",
       "      <td>ConfidenceLevel.HIGH</td>\n",
       "      <td>[{'url': 'https://www.devex.com/organizations/...</td>\n",
       "    </tr>\n",
       "  </tbody>\n",
       "</table>\n",
       "</div>"
      ],
      "text/plain": [
       "                                            question error  domain  \\\n",
       "0  What is the top-level state Organ (i.e., minis...  None  ENERGY   \n",
       "1  What is the top-level state Organ (i.e., minis...  None  ENERGY   \n",
       "2  What is the top-level state Organ (i.e., minis...  None  ENERGY   \n",
       "\n",
       "       country                                organization_name  \\\n",
       "0      ALGERIA          Ministry of Energy and Renewable Energy   \n",
       "1  AFGHANISTAN                     Ministry of Energy and Water   \n",
       "2      ALBANIA  Ministry of Infrastructure and Energy (Albania)   \n",
       "\n",
       "               confidence                                 enriched_citations  \n",
       "0  ConfidenceLevel.MEDIUM  [{'url': 'https://en.wikipedia.org/wiki/Minist...  \n",
       "1    ConfidenceLevel.HIGH  [{'url': 'https://en.wikipedia.org/wiki/Minist...  \n",
       "2    ConfidenceLevel.HIGH  [{'url': 'https://www.devex.com/organizations/...  "
      ]
     },
     "execution_count": 4,
     "metadata": {},
     "output_type": "execute_result"
    }
   ],
   "source": [
    "answers = []\n",
    "async for answer in workflow.dump_answers():\n",
    "    answers.append(answer)\n",
    "flattened = pd.concat([ans.flattened for ans in answers]).reset_index(drop=True)\n",
    "flattened"
   ]
  },
  {
   "cell_type": "code",
   "execution_count": 5,
   "id": "c30b7b1d",
   "metadata": {},
   "outputs": [],
   "source": [
    "wrangled = flattened.copy()\n"
   ]
  },
  {
   "cell_type": "code",
   "execution_count": 6,
   "id": "b4ac603b",
   "metadata": {},
   "outputs": [
    {
     "data": {
      "text/plain": [
       "0    [{'url': 'https://en.wikipedia.org/wiki/Minist...\n",
       "1    [{'url': 'https://en.wikipedia.org/wiki/Minist...\n",
       "2    [{'url': 'https://www.devex.com/organizations/...\n",
       "Name: enriched_citations, dtype: object"
      ]
     },
     "execution_count": 6,
     "metadata": {},
     "output_type": "execute_result"
    }
   ],
   "source": [
    "wrangled.enriched_citations"
   ]
  },
  {
   "cell_type": "code",
   "execution_count": null,
   "id": "4ca29b43",
   "metadata": {},
   "outputs": [],
   "source": [
    "wrangled.to_excel(\"organization_names.xlsx\", index=False)"
   ]
  }
 ],
 "metadata": {
  "kernelspec": {
   "display_name": ".venv",
   "language": "python",
   "name": "python3"
  },
  "language_info": {
   "codemirror_mode": {
    "name": "ipython",
    "version": 3
   },
   "file_extension": ".py",
   "mimetype": "text/x-python",
   "name": "python",
   "nbconvert_exporter": "python",
   "pygments_lexer": "ipython3",
   "version": "3.13.7"
  }
 },
 "nbformat": 4,
 "nbformat_minor": 5
}
